{
 "cells": [
  {
   "cell_type": "markdown",
   "id": "75d8f1ad-db3a-4d24-ab46-393f9db718aa",
   "metadata": {},
   "source": [
    "# \"Propensify: Identifying Customer Response to Marketing Campaigns\""
   ]
  },
  {
   "cell_type": "markdown",
   "id": "d3f7d33e-55fe-49b8-bf5a-aba9de96680f",
   "metadata": {},
   "source": [
    "---"
   ]
  },
  {
   "cell_type": "markdown",
   "id": "e5f3084e-16f0-45a1-b7de-357801bceb15",
   "metadata": {},
   "source": [
    "### Greetings and welcome to this comprehensive notebook that walks you through the development, evaluation, and deployment of our groundbreaking 'Identifying Customer Response to Marketing Campaigns'. In the following sections, you will discover step-by-step instructions, insightful analyses, and hands-on demonstrations of our innovative approach to identifying customer response to marketing campaign."
   ]
  },
  {
   "cell_type": "markdown",
   "id": "160e8cf8-7102-4307-a069-0331f0416739",
   "metadata": {},
   "source": [
    "---"
   ]
  },
  {
   "cell_type": "markdown",
   "id": "a8d06f90-affe-4e0c-b631-3d7ba3a7d38f",
   "metadata": {},
   "source": [
    "### Define IAM Role"
   ]
  },
  {
   "cell_type": "code",
   "execution_count": null,
   "id": "ffe26e09-8c36-4685-9c9f-eea4e89425f2",
   "metadata": {},
   "outputs": [],
   "source": [
    "# Define IAM role\n",
    "\n",
    "import boto3\n",
    "from sagemaker import get_execution_role\n",
    "\n",
    "role = get_execution_role()"
   ]
  },
  {
   "cell_type": "markdown",
   "id": "ed9ea391-4ffb-46ef-a63c-2820aaf19981",
   "metadata": {},
   "source": [
    "### Dependencies and Imports"
   ]
  },
  {
   "cell_type": "code",
   "execution_count": null,
   "id": "0c8ee8c2-4f19-4ebf-b925-ac5a7af0955e",
   "metadata": {},
   "outputs": [],
   "source": [
    "import numpy as np \n",
    "import pandas as pd\n",
    "import matplotlib.pyplot as plt\n",
    "from IPython.display import Image \n",
    "from IPython.display import display\n",
    "from time import gmtime, strftime\n",
    "import sys\n",
    "import math\n",
    "import json\n",
    "import os\n",
    "import sagemaker"
   ]
  },
  {
   "cell_type": "markdown",
   "id": "600d0ab3-7f0c-479b-a7b0-2748f33c6256",
   "metadata": {},
   "source": [
    "### Load Dataset:\n",
    "Reads the both dataset(train (1), test(1)) from the specified S3 path and merge the both dataset into a Pandas DataFrame (df)"
   ]
  },
  {
   "cell_type": "code",
   "execution_count": null,
   "id": "f7906efd-6a23-4bf2-923b-b77a5643d80d",
   "metadata": {},
   "outputs": [],
   "source": [
    "# Read dataset\n",
    "dt = pd.read_csv('s3://propensify01/train (1).csv')\n",
    "dte = pd.read_csv('s3://propensify01/test (1).csv')"
   ]
  },
  {
   "cell_type": "code",
   "execution_count": null,
   "id": "754ffbc1-a023-4a83-abc5-10ee582814df",
   "metadata": {},
   "outputs": [],
   "source": [
    "# Add a column to each dataset indicating whether it's from train or test\n",
    "dt['dataset'] = 'train'\n",
    "dte['dataset'] = 'test'\n",
    "\n",
    "# Merge the datasets using concat\n",
    "df = pd.concat([dt, dte], ignore_index=True)"
   ]
  },
  {
   "cell_type": "markdown",
   "id": "837b8fe3-a556-47fe-9094-462d9c13f6fc",
   "metadata": {},
   "source": [
    "### Drop unnecessary columns"
   ]
  },
  {
   "cell_type": "code",
   "execution_count": null,
   "id": "e48839ab-321e-4928-b9c5-c3e74dbe39da",
   "metadata": {},
   "outputs": [],
   "source": [
    "# Specify the columns to drop\n",
    "columns_to_drop = ['profit', 'id', 'dataset']\n",
    "\n",
    "# Drop the specified columns\n",
    "df = df.drop(columns=columns_to_drop)\n",
    "\n",
    "# Verify the DataFrame after dropping the columns\n",
    "print(df.head())  "
   ]
  },
  {
   "cell_type": "markdown",
   "id": "903e24b4-13b0-4101-a59a-59d8609e6058",
   "metadata": {},
   "source": [
    "### EDA and data preparation"
   ]
  },
  {
   "cell_type": "code",
   "execution_count": null,
   "id": "89152261-384e-4c41-bb6a-594f155a5394",
   "metadata": {},
   "outputs": [],
   "source": [
    "print(df.shape)  \n",
    "print(df.columns) "
   ]
  },
  {
   "cell_type": "code",
   "execution_count": null,
   "id": "65075120-d6ee-4db2-a22a-c4a35955d574",
   "metadata": {},
   "outputs": [],
   "source": [
    "# Check for missing values in each column\n",
    "df.isnull().sum()"
   ]
  },
  {
   "cell_type": "code",
   "execution_count": null,
   "id": "4a7b9da1-9012-4163-adba-76f43776c0c7",
   "metadata": {},
   "outputs": [],
   "source": [
    "# Check class distribution to determine balance or imbalance\n",
    "df['responded'].value_counts()"
   ]
  },
  {
   "cell_type": "code",
   "execution_count": null,
   "id": "d2ac4203-8d45-4ad5-bfbe-be1c67d52a53",
   "metadata": {},
   "outputs": [],
   "source": [
    "# Generate summary statistics for numerical features in the dataset\n",
    "df.describe()"
   ]
  },
  {
   "cell_type": "code",
   "execution_count": null,
   "id": "82bbecd9-65ec-4635-94b1-76b01cb393be",
   "metadata": {},
   "outputs": [],
   "source": [
    "# We have 'responsed' column contains 'yes' and 'no' values\n",
    "# Mapping 'yes' to 1 and 'no' to 0\n",
    "df['responded'] = df['responded'].map({'yes': 1, 'no': 0})\n",
    "\n",
    "# Checking the first few rows to verify the changes\n",
    "print(df.head())\n"
   ]
  },
  {
   "cell_type": "code",
   "execution_count": null,
   "id": "63276b81-68eb-4d4c-82d6-dee16961cf73",
   "metadata": {},
   "outputs": [],
   "source": [
    "# Balance the dataset by separating no_respo (Class 0) and yes_repo (Class 1) transactions\n",
    "no_respo = df[df.responded == 0]\n",
    "yes_respo= df[df.responded == 1]"
   ]
  },
  {
   "cell_type": "code",
   "execution_count": null,
   "id": "a70bd8ce-a6e7-4103-87d2-61f1b420fabd",
   "metadata": {},
   "outputs": [],
   "source": [
    "print(no_respo.shape)"
   ]
  },
  {
   "cell_type": "code",
   "execution_count": null,
   "id": "8a03c142-94f9-47bb-9cab-c24ba8f452b1",
   "metadata": {},
   "outputs": [],
   "source": [
    "print(yes_respo.shape)"
   ]
  },
  {
   "cell_type": "markdown",
   "id": "50e0d206-7020-4f16-9e49-5f1c924de5b3",
   "metadata": {},
   "source": [
    "### Building a Sample Dataset with Balanced Distribution¶"
   ]
  },
  {
   "cell_type": "code",
   "execution_count": null,
   "id": "476de49d-8105-40b2-910a-040cdddfe2df",
   "metadata": {},
   "outputs": [],
   "source": [
    "no_respo_sample =  no_respo.sample(n = 928)\n",
    "df = pd.concat([no_respo_sample, yes_respo],axis = 0) "
   ]
  },
  {
   "cell_type": "code",
   "execution_count": null,
   "id": "9ba7fad2-fac3-4004-90ad-4112701000a6",
   "metadata": {},
   "outputs": [],
   "source": [
    "df.shape"
   ]
  },
  {
   "cell_type": "code",
   "execution_count": null,
   "id": "27ded15f-e4c8-4883-964b-16180d3adc7a",
   "metadata": {},
   "outputs": [],
   "source": [
    "# Display the responded distribution in the sample dataset\n",
    "df['responded'].value_counts()"
   ]
  },
  {
   "cell_type": "markdown",
   "id": "154f4bed-99fa-4562-b2a3-7897f0841bfa",
   "metadata": {},
   "source": [
    "### Feature Engineering"
   ]
  },
  {
   "cell_type": "code",
   "execution_count": null,
   "id": "f0c0a673-2c41-4a59-af7a-5bcc04d207e9",
   "metadata": {},
   "outputs": [],
   "source": [
    "df.columns"
   ]
  },
  {
   "cell_type": "code",
   "execution_count": null,
   "id": "45400b68-5b10-4ab5-8656-b23967b0273d",
   "metadata": {},
   "outputs": [],
   "source": [
    "# Check the data types of each column\n",
    "print(df.dtypes)\n",
    "\n",
    "# Calculate the mean of each numeric feature grouped by the 'responded' column\n",
    "numeric_columns = df.select_dtypes(include=['int', 'float']).columns\n",
    "mean_by_responded = df.groupby('responded')[numeric_columns].mean()\n",
    "print(mean_by_responded)"
   ]
  },
  {
   "cell_type": "code",
   "execution_count": null,
   "id": "1cbe7a01-688c-4c42-a84f-7872ef9f02f9",
   "metadata": {},
   "outputs": [],
   "source": [
    "# Frequency tables for each categorical feature\n",
    "for column in df.select_dtypes(include=['object']).columns:\n",
    "    display(pd.crosstab(index=df[column], columns='% observations', normalize='columns'))\n",
    "\n",
    "# Histogram for each numeric features\n",
    "display(df.describe())\n",
    "%matplotlib inline\n",
    "hist = df.hist(bins=30, sharey=True, figsize=(10, 10))"
   ]
  },
  {
   "cell_type": "markdown",
   "id": "a301de1d-e07d-4427-a511-908beefae1e9",
   "metadata": {},
   "source": [
    "### Correlation Analysis"
   ]
  },
  {
   "cell_type": "code",
   "execution_count": null,
   "id": "3df98708-ad9f-4657-a005-7fb3461401e2",
   "metadata": {},
   "outputs": [],
   "source": [
    "# Drop non-numeric columns\n",
    "numeric_df = df.select_dtypes(include=[np.number])\n",
    "\n",
    "# Calculate correlations\n",
    "correlation_matrix = numeric_df.corr()\n",
    "\n",
    "# Display correlation matrix\n",
    "display(correlation_matrix)\n",
    "\n",
    "# Plot scatter matrix\n",
    "pd.plotting.scatter_matrix(numeric_df, figsize=(12, 12))\n",
    "plt.show()"
   ]
  },
  {
   "cell_type": "markdown",
   "id": "9107b0e6-9889-4a3e-9849-10fb3c9dd2bf",
   "metadata": {},
   "source": [
    "### Splitting Data into Features and Target Variables\n",
    "Before training a machine learning model, it's necessary to separate the dataset into input features (independent variables) and the target variable (dependent variable). This allows us to train the model to predict the target variable based on the input features.\n",
    "The following code snippet demonstrates the process of splitting the dataset into input features (X) and the target variable (Y):"
   ]
  },
  {
   "cell_type": "code",
   "execution_count": null,
   "id": "c01c779c-688d-4b4f-952e-a47702fd94b8",
   "metadata": {},
   "outputs": [],
   "source": [
    "# Splitting the data into features and target variables\n",
    "# X = Input features (independent features)\n",
    "# Y = Dependent feature\n",
    "X = df.drop('responded', axis=1)\n",
    "Y = df['responded']"
   ]
  },
  {
   "cell_type": "code",
   "execution_count": null,
   "id": "64be1b8f-c1a9-4b07-bd0c-3059c3241a80",
   "metadata": {},
   "outputs": [],
   "source": [
    "X.shape"
   ]
  },
  {
   "cell_type": "code",
   "execution_count": null,
   "id": "dbf47385-3899-470b-914a-89b4c0081bab",
   "metadata": {},
   "outputs": [],
   "source": [
    "Y.shape"
   ]
  },
  {
   "cell_type": "code",
   "execution_count": null,
   "id": "9b8c682a-74b9-4e3d-8f66-11396b6798aa",
   "metadata": {},
   "outputs": [],
   "source": [
    "train_data, validation_data, test_data = np.split(model_data.sample(frac=1, random_sate=1729), \n",
    "                                                  [int(0.7 * len(model_data)). int(0.9 * len(model_data))])"
   ]
  },
  {
   "cell_type": "code",
   "execution_count": null,
   "id": "6db50164-a2ae-4086-9720-aeb6875f9bb0",
   "metadata": {},
   "outputs": [],
   "source": [
    "print(train_data.shape)"
   ]
  },
  {
   "cell_type": "code",
   "execution_count": null,
   "id": "d6061b0d-0a87-4d4a-b1c8-9e874c6ec447",
   "metadata": {},
   "outputs": [],
   "source": [
    "print(train_data.shape)"
   ]
  },
  {
   "cell_type": "code",
   "execution_count": null,
   "id": "a14238b8-c1eb-42dc-ad53-b9f339bdb023",
   "metadata": {},
   "outputs": [],
   "source": [
    "print(validation_data.shape)"
   ]
  },
  {
   "cell_type": "markdown",
   "id": "44f87fba-a4ce-4927-8dba-9c0be4b2c75f",
   "metadata": {},
   "source": [
    "### Save datasets to CSV files\n",
    "We have split our dataset into three parts: training, testing, and validation sets. Now, we will save these datasets as CSV files."
   ]
  },
  {
   "cell_type": "code",
   "execution_count": null,
   "id": "71d47189-f4fb-4871-88df-7ce4e1e02420",
   "metadata": {},
   "outputs": [],
   "source": [
    "# Save datasets to CSV files\n",
    "train_data.to_csv('train.csv', index=False)\n",
    "test_data.to_csv('test.csv', index=False)\n",
    "validation_data.to_csv('validation.csv', index=False)\n",
    "\n",
    "# Upload datasets to S3\n",
    "s3 = boto3.client('s3')\n",
    "bucket_name = 'propensify01'\n",
    "s3.upload_file('train.csv', 'propensify01',  'dataset/train.csv')\n",
    "s3.upload_file('test.csv', 'propensify01', 'dataset/test.csv')\n",
    "s3.upload_file('validation.csv', 'propensify01', 'dataset/validation.csv')"
   ]
  },
  {
   "cell_type": "markdown",
   "id": "bdc43191-ab4b-44fc-9587-354ce3c4dd8d",
   "metadata": {},
   "source": [
    "### Training Model\n",
    "#### Retrieve XGBoost Container Image URI\n",
    "To use the XGBoost algorithm in Amazon SageMaker, we need to retrieve the container image URI. We can do this using the image_uris.retrieve function provided by SageMaker."
   ]
  },
  {
   "cell_type": "code",
   "execution_count": null,
   "id": "6ada5228-b9d8-4355-b795-3fd7f44e3086",
   "metadata": {},
   "outputs": [],
   "source": [
    "from sagemaker import image_uris\n",
    "container = image_uris.retrieve('xgboost', region='us-east-1', version='latest')"
   ]
  },
  {
   "cell_type": "markdown",
   "id": "877e2359-b224-4364-8b54-43881069cd86",
   "metadata": {},
   "source": [
    "### SageMaker XGBoost Model Training\n",
    "To train an XGBoost model using Amazon SageMaker, we first need to set up the SageMaker session, define the estimator, set hyperparameters, define data channels for training, and then train the model."
   ]
  },
  {
   "cell_type": "code",
   "execution_count": null,
   "id": "e7628431-0f71-40f6-866c-f2a0af4c8580",
   "metadata": {},
   "outputs": [],
   "source": [
    "import sagemaker\n",
    "from sagemaker import get_execution_role\n",
    "from sagemaker.amazon.amazon_estimator import get_image_uri\n",
    "\n",
    "# Create a SageMaker session\n",
    "sess = sagemaker.Session()\n",
    "\n",
    "# Get the ECR container URI for XGBoost algorithm\n",
    "container = get_image_uri(sess.boto_region_name, 'xgboost', repo_version=\"latest\")\n",
    "\n",
    "# Define the estimator\n",
    "xgb = sagemaker.estimator.Estimator(container,\n",
    "                                    role, \n",
    "                                    instance_count=1, \n",
    "                                    instance_type='ml.m4.xlarge',\n",
    "                                    output_path='s3://{}/{}/{}'.format('propensify01', 'output', 'xgboost-model'),\n",
    "                                    sagemaker_session=sess)\n",
    "\n",
    "# Set hyperparameters\n",
    "xgb.set_hyperparameters(max_depth=5,\n",
    "                        eta=0.2,\n",
    "                        gamma=4,\n",
    "                        min_child_weight=6,\n",
    "                        subsample=0.8,\n",
    "                        silent=0,\n",
    "                        objective='binary:logistic',\n",
    "                        num_round=100)\n",
    "\n",
    "# Define data channels for training\n",
    "train_channel = sagemaker.session.s3_input('s3://{}/{}/train.csv'.format('propensify01', 'dataset'), content_type='text/csv')\n",
    "validation_channel = sagemaker.session.s3_input('s3://{}/{}/validation.csv'.format('propensify01', 'dataset'), content_type='text/csv')\n",
    "\n",
    "# Train the model\n",
    "xgb.fit({'train': train_channel, 'validation': validation_channel})"
   ]
  },
  {
   "cell_type": "markdown",
   "id": "ffeb22f8-6a77-4999-8ee5-29b0575ef2e8",
   "metadata": {},
   "source": [
    "### Deploying model\n",
    "To deploy the trained XGBoost model using Amazon SageMaker, we can use the deploy method of the estimator. This will create an endpoint for real-time inference."
   ]
  },
  {
   "cell_type": "code",
   "execution_count": null,
   "id": "43977b32-9872-49db-b02b-5b4bd11befe0",
   "metadata": {},
   "outputs": [],
   "source": [
    "xgb_predictor = xgb.deploy(initial_instance_count=1,\n",
    "                           instance_type = 'ml.m4.xlarge'"
   ]
  },
  {
   "cell_type": "markdown",
   "id": "b90e0214-2c19-4be1-9e73-e70b7ccf17fa",
   "metadata": {},
   "source": [
    "#### Setting Serializer for XGBoost Predictor\n",
    "\n",
    "To ensure that the input data sent to the deployed XGBoost model endpoint is properly formatted, we can set the serializer to CSVSerializer provided by SageMaker."
   ]
  },
  {
   "cell_type": "code",
   "execution_count": null,
   "id": "b31149f1-be5e-4771-b3da-1906ce8da24d",
   "metadata": {},
   "outputs": [],
   "source": [
    "from sagemaker.serializers import CSVSerializer\n",
    "xgb_predictor.serializer = CSVSerializer()"
   ]
  },
  {
   "cell_type": "markdown",
   "id": "3960e2dd-9440-470a-8974-4852fa6046f0",
   "metadata": {},
   "source": [
    "#### To make predictions using the deployed XGBoost model, you can use the following `predict` function:"
   ]
  },
  {
   "cell_type": "code",
   "execution_count": null,
   "id": "dce99ce2-da49-4ca9-9d31-2427f993f2b5",
   "metadata": {},
   "outputs": [],
   "source": [
    "def predict (df, rows = 186):\n",
    "    split_arry = np.array_split(df, int(df.shape[0] / float(rows) + 1))\n",
    "    predictions = ''\n",
    "    for array in split in split_array:\n",
    "        prediction = ','.json([predictions, xgb_predictor.predict(array).decode('utf-8')])\n",
    "        \n",
    "    return np.fromstring(predictions[1:], sep=',')\n",
    "\n",
    "predictions = predict(test_data.drop(['no_respo', 'yes_respo'], axis=1).to_numpy())\n",
    "                                        "
   ]
  },
  {
   "cell_type": "code",
   "execution_count": null,
   "id": "a88e7f2a-97c6-4299-97fd-fcb7f62a3a07",
   "metadata": {},
   "outputs": [],
   "source": [
    "pd.crosstab(index=test_data['yes_respo'], column=np.round(predictions), rownames=['actuals'],colnames=['predictions'])"
   ]
  },
  {
   "cell_type": "markdown",
   "id": "b357f032-72da-4f08-85fb-4c11ad03347f",
   "metadata": {},
   "source": [
    "#### To delete the deployed endpoint associated with the XGBoost model, you can use the `delete_endpoint` method as follows:"
   ]
  },
  {
   "cell_type": "code",
   "execution_count": null,
   "id": "08604cd0-2324-40e7-b4bf-8dc90d73086d",
   "metadata": {},
   "outputs": [],
   "source": [
    "xgb_predictor.delete_endpoint()"
   ]
  },
  {
   "cell_type": "markdown",
   "id": "dd8b5348-bbe4-44ac-8d5c-7692b490c14d",
   "metadata": {},
   "source": [
    "### Confusion Matrix and ROC AUC Score\n",
    "\n",
    "The following code calculates the confusion matrix and ROC AUC score to evaluate the performance of the model:"
   ]
  },
  {
   "cell_type": "code",
   "execution_count": null,
   "id": "0231e639-433d-4840-8382-6cf7d1dbe9d1",
   "metadata": {},
   "outputs": [],
   "source": [
    "from sklearn.metrics import confusion_matrix, roc_auc_score\n",
    "import matplotlib.pyplot as plt\n",
    "import seaborn as sns\n",
    "\n",
    "# Make predictions\n",
    "predictions = predict(test_data.drop(['no_respo', 'yes_respo'], axis=1).to_numpy())\n",
    "\n",
    "# Generate confusion matrix\n",
    "cm = confusion_matrix(test_data['yes_respo'], np.round(predictions))\n",
    "\n",
    "# Plot confusion matrix\n",
    "plt.figure(figsize=(8, 6))\n",
    "sns.heatmap(cm, annot=True, fmt='d', cmap='Blues', cbar=False)\n",
    "plt.xlabel('Predicted')\n",
    "plt.ylabel('Actual')\n",
    "plt.title('Confusion Matrix')\n",
    "plt.show()\n",
    "\n",
    "# Calculate ROC AUC score\n",
    "roc_auc = roc_auc_score(test_data['yes_respo'], predictions)\n",
    "print(\"ROC AUC Score:\", roc_auc)"
   ]
  },
  {
   "cell_type": "markdown",
   "id": "3873e12a-fb4c-4f78-80af-77c3d5089d78",
   "metadata": {},
   "source": [
    "#### Classification report"
   ]
  },
  {
   "cell_type": "code",
   "execution_count": null,
   "id": "d3855b70-159c-43cb-9743-660d4348bd08",
   "metadata": {},
   "outputs": [],
   "source": [
    "from sklearn.metrics import classification_report\n",
    "\n",
    "# Calculate precision, recall, f1-score, and support\n",
    "report = classification_report(test_data['yes_respo'], np.round(predictions))\n",
    "\n",
    "print(\"Classification Report:\")\n",
    "print(report)"
   ]
  },
  {
   "cell_type": "markdown",
   "id": "5003a6aa-8f89-468b-9a15-ae069d5e89b7",
   "metadata": {},
   "source": [
    "### Thank You\n",
    "#### Riddhi Sharma"
   ]
  }
 ],
 "metadata": {
  "availableInstances": [
   {
    "_defaultOrder": 0,
    "_isFastLaunch": true,
    "category": "General purpose",
    "gpuNum": 0,
    "hideHardwareSpecs": false,
    "memoryGiB": 4,
    "name": "ml.t3.medium",
    "vcpuNum": 2
   },
   {
    "_defaultOrder": 1,
    "_isFastLaunch": false,
    "category": "General purpose",
    "gpuNum": 0,
    "hideHardwareSpecs": false,
    "memoryGiB": 8,
    "name": "ml.t3.large",
    "vcpuNum": 2
   },
   {
    "_defaultOrder": 2,
    "_isFastLaunch": false,
    "category": "General purpose",
    "gpuNum": 0,
    "hideHardwareSpecs": false,
    "memoryGiB": 16,
    "name": "ml.t3.xlarge",
    "vcpuNum": 4
   },
   {
    "_defaultOrder": 3,
    "_isFastLaunch": false,
    "category": "General purpose",
    "gpuNum": 0,
    "hideHardwareSpecs": false,
    "memoryGiB": 32,
    "name": "ml.t3.2xlarge",
    "vcpuNum": 8
   },
   {
    "_defaultOrder": 4,
    "_isFastLaunch": true,
    "category": "General purpose",
    "gpuNum": 0,
    "hideHardwareSpecs": false,
    "memoryGiB": 8,
    "name": "ml.m5.large",
    "vcpuNum": 2
   },
   {
    "_defaultOrder": 5,
    "_isFastLaunch": false,
    "category": "General purpose",
    "gpuNum": 0,
    "hideHardwareSpecs": false,
    "memoryGiB": 16,
    "name": "ml.m5.xlarge",
    "vcpuNum": 4
   },
   {
    "_defaultOrder": 6,
    "_isFastLaunch": false,
    "category": "General purpose",
    "gpuNum": 0,
    "hideHardwareSpecs": false,
    "memoryGiB": 32,
    "name": "ml.m5.2xlarge",
    "vcpuNum": 8
   },
   {
    "_defaultOrder": 7,
    "_isFastLaunch": false,
    "category": "General purpose",
    "gpuNum": 0,
    "hideHardwareSpecs": false,
    "memoryGiB": 64,
    "name": "ml.m5.4xlarge",
    "vcpuNum": 16
   },
   {
    "_defaultOrder": 8,
    "_isFastLaunch": false,
    "category": "General purpose",
    "gpuNum": 0,
    "hideHardwareSpecs": false,
    "memoryGiB": 128,
    "name": "ml.m5.8xlarge",
    "vcpuNum": 32
   },
   {
    "_defaultOrder": 9,
    "_isFastLaunch": false,
    "category": "General purpose",
    "gpuNum": 0,
    "hideHardwareSpecs": false,
    "memoryGiB": 192,
    "name": "ml.m5.12xlarge",
    "vcpuNum": 48
   },
   {
    "_defaultOrder": 10,
    "_isFastLaunch": false,
    "category": "General purpose",
    "gpuNum": 0,
    "hideHardwareSpecs": false,
    "memoryGiB": 256,
    "name": "ml.m5.16xlarge",
    "vcpuNum": 64
   },
   {
    "_defaultOrder": 11,
    "_isFastLaunch": false,
    "category": "General purpose",
    "gpuNum": 0,
    "hideHardwareSpecs": false,
    "memoryGiB": 384,
    "name": "ml.m5.24xlarge",
    "vcpuNum": 96
   },
   {
    "_defaultOrder": 12,
    "_isFastLaunch": false,
    "category": "General purpose",
    "gpuNum": 0,
    "hideHardwareSpecs": false,
    "memoryGiB": 8,
    "name": "ml.m5d.large",
    "vcpuNum": 2
   },
   {
    "_defaultOrder": 13,
    "_isFastLaunch": false,
    "category": "General purpose",
    "gpuNum": 0,
    "hideHardwareSpecs": false,
    "memoryGiB": 16,
    "name": "ml.m5d.xlarge",
    "vcpuNum": 4
   },
   {
    "_defaultOrder": 14,
    "_isFastLaunch": false,
    "category": "General purpose",
    "gpuNum": 0,
    "hideHardwareSpecs": false,
    "memoryGiB": 32,
    "name": "ml.m5d.2xlarge",
    "vcpuNum": 8
   },
   {
    "_defaultOrder": 15,
    "_isFastLaunch": false,
    "category": "General purpose",
    "gpuNum": 0,
    "hideHardwareSpecs": false,
    "memoryGiB": 64,
    "name": "ml.m5d.4xlarge",
    "vcpuNum": 16
   },
   {
    "_defaultOrder": 16,
    "_isFastLaunch": false,
    "category": "General purpose",
    "gpuNum": 0,
    "hideHardwareSpecs": false,
    "memoryGiB": 128,
    "name": "ml.m5d.8xlarge",
    "vcpuNum": 32
   },
   {
    "_defaultOrder": 17,
    "_isFastLaunch": false,
    "category": "General purpose",
    "gpuNum": 0,
    "hideHardwareSpecs": false,
    "memoryGiB": 192,
    "name": "ml.m5d.12xlarge",
    "vcpuNum": 48
   },
   {
    "_defaultOrder": 18,
    "_isFastLaunch": false,
    "category": "General purpose",
    "gpuNum": 0,
    "hideHardwareSpecs": false,
    "memoryGiB": 256,
    "name": "ml.m5d.16xlarge",
    "vcpuNum": 64
   },
   {
    "_defaultOrder": 19,
    "_isFastLaunch": false,
    "category": "General purpose",
    "gpuNum": 0,
    "hideHardwareSpecs": false,
    "memoryGiB": 384,
    "name": "ml.m5d.24xlarge",
    "vcpuNum": 96
   },
   {
    "_defaultOrder": 20,
    "_isFastLaunch": false,
    "category": "General purpose",
    "gpuNum": 0,
    "hideHardwareSpecs": true,
    "memoryGiB": 0,
    "name": "ml.geospatial.interactive",
    "supportedImageNames": [
     "sagemaker-geospatial-v1-0"
    ],
    "vcpuNum": 0
   },
   {
    "_defaultOrder": 21,
    "_isFastLaunch": true,
    "category": "Compute optimized",
    "gpuNum": 0,
    "hideHardwareSpecs": false,
    "memoryGiB": 4,
    "name": "ml.c5.large",
    "vcpuNum": 2
   },
   {
    "_defaultOrder": 22,
    "_isFastLaunch": false,
    "category": "Compute optimized",
    "gpuNum": 0,
    "hideHardwareSpecs": false,
    "memoryGiB": 8,
    "name": "ml.c5.xlarge",
    "vcpuNum": 4
   },
   {
    "_defaultOrder": 23,
    "_isFastLaunch": false,
    "category": "Compute optimized",
    "gpuNum": 0,
    "hideHardwareSpecs": false,
    "memoryGiB": 16,
    "name": "ml.c5.2xlarge",
    "vcpuNum": 8
   },
   {
    "_defaultOrder": 24,
    "_isFastLaunch": false,
    "category": "Compute optimized",
    "gpuNum": 0,
    "hideHardwareSpecs": false,
    "memoryGiB": 32,
    "name": "ml.c5.4xlarge",
    "vcpuNum": 16
   },
   {
    "_defaultOrder": 25,
    "_isFastLaunch": false,
    "category": "Compute optimized",
    "gpuNum": 0,
    "hideHardwareSpecs": false,
    "memoryGiB": 72,
    "name": "ml.c5.9xlarge",
    "vcpuNum": 36
   },
   {
    "_defaultOrder": 26,
    "_isFastLaunch": false,
    "category": "Compute optimized",
    "gpuNum": 0,
    "hideHardwareSpecs": false,
    "memoryGiB": 96,
    "name": "ml.c5.12xlarge",
    "vcpuNum": 48
   },
   {
    "_defaultOrder": 27,
    "_isFastLaunch": false,
    "category": "Compute optimized",
    "gpuNum": 0,
    "hideHardwareSpecs": false,
    "memoryGiB": 144,
    "name": "ml.c5.18xlarge",
    "vcpuNum": 72
   },
   {
    "_defaultOrder": 28,
    "_isFastLaunch": false,
    "category": "Compute optimized",
    "gpuNum": 0,
    "hideHardwareSpecs": false,
    "memoryGiB": 192,
    "name": "ml.c5.24xlarge",
    "vcpuNum": 96
   },
   {
    "_defaultOrder": 29,
    "_isFastLaunch": true,
    "category": "Accelerated computing",
    "gpuNum": 1,
    "hideHardwareSpecs": false,
    "memoryGiB": 16,
    "name": "ml.g4dn.xlarge",
    "vcpuNum": 4
   },
   {
    "_defaultOrder": 30,
    "_isFastLaunch": false,
    "category": "Accelerated computing",
    "gpuNum": 1,
    "hideHardwareSpecs": false,
    "memoryGiB": 32,
    "name": "ml.g4dn.2xlarge",
    "vcpuNum": 8
   },
   {
    "_defaultOrder": 31,
    "_isFastLaunch": false,
    "category": "Accelerated computing",
    "gpuNum": 1,
    "hideHardwareSpecs": false,
    "memoryGiB": 64,
    "name": "ml.g4dn.4xlarge",
    "vcpuNum": 16
   },
   {
    "_defaultOrder": 32,
    "_isFastLaunch": false,
    "category": "Accelerated computing",
    "gpuNum": 1,
    "hideHardwareSpecs": false,
    "memoryGiB": 128,
    "name": "ml.g4dn.8xlarge",
    "vcpuNum": 32
   },
   {
    "_defaultOrder": 33,
    "_isFastLaunch": false,
    "category": "Accelerated computing",
    "gpuNum": 4,
    "hideHardwareSpecs": false,
    "memoryGiB": 192,
    "name": "ml.g4dn.12xlarge",
    "vcpuNum": 48
   },
   {
    "_defaultOrder": 34,
    "_isFastLaunch": false,
    "category": "Accelerated computing",
    "gpuNum": 1,
    "hideHardwareSpecs": false,
    "memoryGiB": 256,
    "name": "ml.g4dn.16xlarge",
    "vcpuNum": 64
   },
   {
    "_defaultOrder": 35,
    "_isFastLaunch": false,
    "category": "Accelerated computing",
    "gpuNum": 1,
    "hideHardwareSpecs": false,
    "memoryGiB": 61,
    "name": "ml.p3.2xlarge",
    "vcpuNum": 8
   },
   {
    "_defaultOrder": 36,
    "_isFastLaunch": false,
    "category": "Accelerated computing",
    "gpuNum": 4,
    "hideHardwareSpecs": false,
    "memoryGiB": 244,
    "name": "ml.p3.8xlarge",
    "vcpuNum": 32
   },
   {
    "_defaultOrder": 37,
    "_isFastLaunch": false,
    "category": "Accelerated computing",
    "gpuNum": 8,
    "hideHardwareSpecs": false,
    "memoryGiB": 488,
    "name": "ml.p3.16xlarge",
    "vcpuNum": 64
   },
   {
    "_defaultOrder": 38,
    "_isFastLaunch": false,
    "category": "Accelerated computing",
    "gpuNum": 8,
    "hideHardwareSpecs": false,
    "memoryGiB": 768,
    "name": "ml.p3dn.24xlarge",
    "vcpuNum": 96
   },
   {
    "_defaultOrder": 39,
    "_isFastLaunch": false,
    "category": "Memory Optimized",
    "gpuNum": 0,
    "hideHardwareSpecs": false,
    "memoryGiB": 16,
    "name": "ml.r5.large",
    "vcpuNum": 2
   },
   {
    "_defaultOrder": 40,
    "_isFastLaunch": false,
    "category": "Memory Optimized",
    "gpuNum": 0,
    "hideHardwareSpecs": false,
    "memoryGiB": 32,
    "name": "ml.r5.xlarge",
    "vcpuNum": 4
   },
   {
    "_defaultOrder": 41,
    "_isFastLaunch": false,
    "category": "Memory Optimized",
    "gpuNum": 0,
    "hideHardwareSpecs": false,
    "memoryGiB": 64,
    "name": "ml.r5.2xlarge",
    "vcpuNum": 8
   },
   {
    "_defaultOrder": 42,
    "_isFastLaunch": false,
    "category": "Memory Optimized",
    "gpuNum": 0,
    "hideHardwareSpecs": false,
    "memoryGiB": 128,
    "name": "ml.r5.4xlarge",
    "vcpuNum": 16
   },
   {
    "_defaultOrder": 43,
    "_isFastLaunch": false,
    "category": "Memory Optimized",
    "gpuNum": 0,
    "hideHardwareSpecs": false,
    "memoryGiB": 256,
    "name": "ml.r5.8xlarge",
    "vcpuNum": 32
   },
   {
    "_defaultOrder": 44,
    "_isFastLaunch": false,
    "category": "Memory Optimized",
    "gpuNum": 0,
    "hideHardwareSpecs": false,
    "memoryGiB": 384,
    "name": "ml.r5.12xlarge",
    "vcpuNum": 48
   },
   {
    "_defaultOrder": 45,
    "_isFastLaunch": false,
    "category": "Memory Optimized",
    "gpuNum": 0,
    "hideHardwareSpecs": false,
    "memoryGiB": 512,
    "name": "ml.r5.16xlarge",
    "vcpuNum": 64
   },
   {
    "_defaultOrder": 46,
    "_isFastLaunch": false,
    "category": "Memory Optimized",
    "gpuNum": 0,
    "hideHardwareSpecs": false,
    "memoryGiB": 768,
    "name": "ml.r5.24xlarge",
    "vcpuNum": 96
   },
   {
    "_defaultOrder": 47,
    "_isFastLaunch": false,
    "category": "Accelerated computing",
    "gpuNum": 1,
    "hideHardwareSpecs": false,
    "memoryGiB": 16,
    "name": "ml.g5.xlarge",
    "vcpuNum": 4
   },
   {
    "_defaultOrder": 48,
    "_isFastLaunch": false,
    "category": "Accelerated computing",
    "gpuNum": 1,
    "hideHardwareSpecs": false,
    "memoryGiB": 32,
    "name": "ml.g5.2xlarge",
    "vcpuNum": 8
   },
   {
    "_defaultOrder": 49,
    "_isFastLaunch": false,
    "category": "Accelerated computing",
    "gpuNum": 1,
    "hideHardwareSpecs": false,
    "memoryGiB": 64,
    "name": "ml.g5.4xlarge",
    "vcpuNum": 16
   },
   {
    "_defaultOrder": 50,
    "_isFastLaunch": false,
    "category": "Accelerated computing",
    "gpuNum": 1,
    "hideHardwareSpecs": false,
    "memoryGiB": 128,
    "name": "ml.g5.8xlarge",
    "vcpuNum": 32
   },
   {
    "_defaultOrder": 51,
    "_isFastLaunch": false,
    "category": "Accelerated computing",
    "gpuNum": 1,
    "hideHardwareSpecs": false,
    "memoryGiB": 256,
    "name": "ml.g5.16xlarge",
    "vcpuNum": 64
   },
   {
    "_defaultOrder": 52,
    "_isFastLaunch": false,
    "category": "Accelerated computing",
    "gpuNum": 4,
    "hideHardwareSpecs": false,
    "memoryGiB": 192,
    "name": "ml.g5.12xlarge",
    "vcpuNum": 48
   },
   {
    "_defaultOrder": 53,
    "_isFastLaunch": false,
    "category": "Accelerated computing",
    "gpuNum": 4,
    "hideHardwareSpecs": false,
    "memoryGiB": 384,
    "name": "ml.g5.24xlarge",
    "vcpuNum": 96
   },
   {
    "_defaultOrder": 54,
    "_isFastLaunch": false,
    "category": "Accelerated computing",
    "gpuNum": 8,
    "hideHardwareSpecs": false,
    "memoryGiB": 768,
    "name": "ml.g5.48xlarge",
    "vcpuNum": 192
   },
   {
    "_defaultOrder": 55,
    "_isFastLaunch": false,
    "category": "Accelerated computing",
    "gpuNum": 8,
    "hideHardwareSpecs": false,
    "memoryGiB": 1152,
    "name": "ml.p4d.24xlarge",
    "vcpuNum": 96
   },
   {
    "_defaultOrder": 56,
    "_isFastLaunch": false,
    "category": "Accelerated computing",
    "gpuNum": 8,
    "hideHardwareSpecs": false,
    "memoryGiB": 1152,
    "name": "ml.p4de.24xlarge",
    "vcpuNum": 96
   },
   {
    "_defaultOrder": 57,
    "_isFastLaunch": false,
    "category": "Accelerated computing",
    "gpuNum": 0,
    "hideHardwareSpecs": false,
    "memoryGiB": 32,
    "name": "ml.trn1.2xlarge",
    "vcpuNum": 8
   },
   {
    "_defaultOrder": 58,
    "_isFastLaunch": false,
    "category": "Accelerated computing",
    "gpuNum": 0,
    "hideHardwareSpecs": false,
    "memoryGiB": 512,
    "name": "ml.trn1.32xlarge",
    "vcpuNum": 128
   },
   {
    "_defaultOrder": 59,
    "_isFastLaunch": false,
    "category": "Accelerated computing",
    "gpuNum": 0,
    "hideHardwareSpecs": false,
    "memoryGiB": 512,
    "name": "ml.trn1n.32xlarge",
    "vcpuNum": 128
   }
  ],
  "instance_type": "ml.t3.medium",
  "kernelspec": {
   "display_name": "Python 3 (Data Science 3.0)",
   "language": "python",
   "name": "python3__SAGEMAKER_INTERNAL__arn:aws:sagemaker:us-east-1:081325390199:image/sagemaker-data-science-310-v1"
  },
  "language_info": {
   "codemirror_mode": {
    "name": "ipython",
    "version": 3
   },
   "file_extension": ".py",
   "mimetype": "text/x-python",
   "name": "python",
   "nbconvert_exporter": "python",
   "pygments_lexer": "ipython3",
   "version": "3.10.6"
  }
 },
 "nbformat": 4,
 "nbformat_minor": 5
}
